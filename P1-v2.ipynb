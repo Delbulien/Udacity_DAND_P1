{
 "cells": [
  {
   "cell_type": "markdown",
   "metadata": {},
   "source": [
    "# Stroop Effect\n",
    "\n",
    "## Background Information\n",
    "\n",
    "In a Stroop task, participants are presented with a list of words, with each word displayed in a color of ink. The participant’s task is to say out loud the color of the ink in which the word is printed. The task has two conditions: a congruent words condition, and an incongruent words condition. In the congruent words condition, the words being displayed are color words whose names match the colors in which they are printed: for example RED, BLUE. In the incongruent words condition, the words displayed are color words whose names do not match the colors in which they are printed: for example PURPLE, ORANGE. In each case, we measure the time it takes to name the ink colors in equally-sized lists. Each participant will go through and record a time from each condition.\n",
    "\n",
    "## Questions For Investigation\n",
    "\n",
    "As a general note, be sure to keep a record of any resources that you use or refer to in the creation of your project. You will need to report your sources as part of the project submission.\n",
    "\n"
   ]
  },
  {
   "cell_type": "markdown",
   "metadata": {},
   "source": [
    "**1.\tWhat is our independent variable? What is our dependent variable?**\n",
    "\n",
    "\n",
    ">The independent variable is the task conditions: congruent words condition or incongruent words condition.  \n",
    "The dependent variable is the recorded time from each condition.\n",
    "\n",
    "\n"
   ]
  },
  {
   "cell_type": "markdown",
   "metadata": {},
   "source": [
    "**2.\tWhat is an appropriate set of hypotheses for this task? What kind of statistical test do you expect to perform? Justify your choices.**\n",
    "\n",
    ">The Null hypothesis would be: there is no significant difference of time  from each condition\n",
    "The Alternative Hypothesis would be: there is a significant difference of time from each condition  \n",
    "$H_0: \\mu_1-\\mu_2=0$  \n",
    "$H_A: \\mu_1-\\mu_2 \\ne 0$  \n",
    "With $\\mu_1$ the mean time for the congruent condition and $\\mu_2$ the mean time for the incongruent condition\n",
    "I would propose a 2 tail t-test. 2 tail because in the hypothesis I proposed, there is no indication whether the time for one condition is increased in comparison to the other. It will be a t-test because, the population parameters are unknown.  \n",
    "It is paired samples (same participants but 2 conditions) and therefore I focus on the time difference between the two test of each participant.\n"
   ]
  },
  {
   "cell_type": "markdown",
   "metadata": {},
   "source": [
    "**3.\tReport some descriptive statistics regarding this dataset. Include at least one measure of central tendency and at least one measure of variability.**\n",
    "\n",
    ">The mean time for the sample in congruent condition is 14.05s. The mean time for the sample in incongruent condition is 22.02s.\n",
    "The median time value for the congruent condition is 14.36s whereas the median time value for the incongruent condition is 21.02s.  \n",
    "With the bin size of 2s, the mode for the congruent condition is 14-16s whereas it 20-22s for the incongruent condition.  \n",
    "The sample standard deviation of the time in congruent condition is 3.48s whereas in incongruent condition it is equal to 4.70s. The population standard deviation estimation of the time for the congruent condition is 3.56s and it is 4.80s in incongruent condition.  \n",
    "The range for the congruent condition is 13.70s whereas it is 19.57s for the incongruent condition. The interquartile range is 4.31s for the congruent test whereas it is 5.33s for the incongruent condition.  \n"
   ]
  },
  {
   "cell_type": "code",
   "execution_count": 1,
   "metadata": {
    "collapsed": false
   },
   "outputs": [
    {
     "name": "stdout",
     "output_type": "stream",
     "text": [
      "Mean, Population Standard Deviationestimation, Interquartile range, Range, Median\n",
      "14.051125 3.55935795765 4.3055 13.698 14.3565\n",
      "22.0159166667 4.79705712247 5.33475 19.568 21.0175\n",
      "Sample Standard Deviation\n",
      "3.48441571277 4.69605513451\n"
     ]
    }
   ],
   "source": [
    "# import all necessary packages and functions.\n",
    "import csv\n",
    "from datetime import datetime\n",
    "import numpy as np\n",
    "import pandas as pd\n",
    "import math\n",
    "%matplotlib inline\n",
    "\n",
    "# file locations\n",
    "file_in  = 'stroopdata.csv'\n",
    "\n",
    "sample_data = pd.read_csv(file_in)\n",
    "\n",
    "#display(sample_data.head())\n",
    "\n",
    "a=sample_data[\"Congruent\"]\n",
    "b=sample_data[\"Incongruent\"]\n",
    "\n",
    "print \"Mean, Population Standard Deviationestimation, Interquartile range, Range, Median\"\n",
    "print a.mean(), a.std(),a.quantile(0.75)-a.quantile(0.25), a.max()-a.min(), a.median()\n",
    "print b.mean(), b.std(),b.quantile(0.75)-b.quantile(0.25), b.max()-b.min(), b.median()\n",
    "\n",
    "print \"Sample Standard Deviation\"\n",
    "tmp1=0.\n",
    "meana=a.mean()\n",
    "tmp2=0.\n",
    "meanb=b.mean()\n",
    "for i in range(0,len(a)):\n",
    "    tmp1+=(a[i]-meana)**2\n",
    "    tmp2+=(b[i]-meanb)**2\n",
    "sstd1=math.sqrt(tmp1/len(a))\n",
    "sstd2=math.sqrt(tmp2/len(b))\n",
    "\n",
    "print sstd1,sstd2\n",
    "\n"
   ]
  },
  {
   "cell_type": "markdown",
   "metadata": {},
   "source": [
    "**4.\tProvide one or two visualizations that show the distribution of the sample data. Write one or two sentences noting what you observe about the plot or plots.**\n",
    "\n",
    ">On the histograms, it can be seen that the distribution for the congruent and incongruent condition looks relatively normal. On the box plot, it can be seen taht there is no outliers for the congruent condition whereas there are 2 for the incongruent condition.\n"
   ]
  },
  {
   "cell_type": "code",
   "execution_count": 2,
   "metadata": {
    "collapsed": false
   },
   "outputs": [
    {
     "data": {
      "text/plain": [
       "<matplotlib.text.Text at 0x9ea9630>"
      ]
     },
     "execution_count": 2,
     "metadata": {},
     "output_type": "execute_result"
    },
    {
     "data": {
      "image/png": "[encoded data removed]",
      "text/plain": [
       "<matplotlib.figure.Figure at 0x9ac5908>"
      ]
     },
     "metadata": {},
     "output_type": "display_data"
    },
    {
     "data": {
      "image/png": "[encoded data removed]",
      "text/plain": [
       "<matplotlib.figure.Figure at 0x9d85b38>"
      ]
     },
     "metadata": {},
     "output_type": "display_data"
    }
   ],
   "source": [
    "import matplotlib.pyplot as plt\n",
    "\n",
    "bins = np.linspace(6, 40, 18)\n",
    "\n",
    "fig1, axarr1 =plt.subplots(1,2)\n",
    "n, bins, patches = axarr1[0].hist([a,],bins, alpha=0.5)\n",
    "n, bins, patches = axarr1[1].hist([b,],bins, alpha=0.5,facecolor='red')\n",
    "axarr1[0].set_xlabel(\"Time(s)\")\n",
    "axarr1[1].set_xlabel(\"Time(s)\")\n",
    "axarr1[0].set_title(\"Histogram\")\n",
    "axarr1[1].set_title(\"Histogram\")\n",
    "\n",
    "fig2, axarr2 =plt.subplots(1,1)\n",
    "tmp=axarr2.boxplot([a,b], vert=False)\n",
    "axarr2.set_yticklabels([\"Congruent\",\"Incongruent\"])\n",
    "axarr2.set_xlabel(\"Time(s)\")\n",
    "axarr2.set_title(\"Boxplot\")\n"
   ]
  },
  {
   "cell_type": "markdown",
   "metadata": {},
   "source": [
    "**5.\tNow, perform the statistical test and report your results. What is your confidence level and your critical statistic value? Do you reject the null hypothesis or fail to reject it? Come to a conclusion in terms of the experiment task. Did the results match up with your expectations?**\n",
    "\n",
    ">The size of the sample is $n=24$. The number of degree of freedom is then $df=n-1$ which gives $df=23$. The $\\alpha$-level I chose for the confidence level is $\\alpha=0.05$. From the t-table, $t_{critical}=2.069$. \n",
    "The value for the t-test is $t_{value}=-8.02$  \n",
    "With such value, I reject the null the null hypothesis. The condition of the test (congruent or incongruent) has a significant impact on the result to the test. This result match my expectation. However, it would be possible to change the test to a one-tail t-test with the following null hypothesis: the time for the incongruent condition is below or equal to the time for the congruent condition.\n"
   ]
  },
  {
   "cell_type": "code",
   "execution_count": 3,
   "metadata": {
    "collapsed": false
   },
   "outputs": [
    {
     "name": "stdout",
     "output_type": "stream",
     "text": [
      "n= 24\n",
      "mean= -7.96479166667\n",
      "s= 4.86482691036\n",
      "tvalue= -8.02070694411\n"
     ]
    }
   ],
   "source": [
    "# size of the dataset\n",
    "n=len(a)\n",
    "print \"n=\",n\n",
    "\n",
    "#Difference of dataset\n",
    "d=a-b\n",
    "\n",
    "# Mean of Sample of Difference\n",
    "m=d.mean()\n",
    "print \"mean=\",m\n",
    "\n",
    "# Population standard deviation estimation\n",
    "s=d.std()\n",
    "print \"s=\",s\n",
    "\n",
    "# tvalue calculation\n",
    "tvalue=m/(s/math.sqrt(n))\n",
    "print \"tvalue=\",tvalue\n"
   ]
  },
  {
   "cell_type": "markdown",
   "metadata": {},
   "source": [
    "**6.\tOptional: What do you think is responsible for the effects observed? Can you think of an alternative or similar task that would result in a similar effect? Some research about the problem will be helpful for thinking about these two questions!**\n",
    "\n",
    ">I think the effect observed is due to the activation of different zone of the brain: the one responsible for the reading capability and the one managing the vision color. When the information coming from are incoherent, the brain need to sort out which information is the right one with respect to the exercice.  \n",
    "From wikipedia, I read that the same kind of test could be done with Emotions, Directions and Numbers\n",
    "\n"
   ]
  }
 ],
 "metadata": {
  "anaconda-cloud": {},
  "kernelspec": {
   "display_name": "Python 2",
   "language": "python",
   "name": "python2"
  },
  "language_info": {
   "codemirror_mode": {
    "name": "ipython",
    "version": 2
   },
   "file_extension": ".py",
   "mimetype": "text/x-python",
   "name": "python",
   "nbconvert_exporter": "python",
   "pygments_lexer": "ipython2",
   "version": "2.7.12"
  }
 },
 "nbformat": 4,
 "nbformat_minor": 1
}
